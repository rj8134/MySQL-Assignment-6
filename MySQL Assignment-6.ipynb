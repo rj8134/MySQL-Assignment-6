{
 "cells": [
  {
   "cell_type": "markdown",
   "id": "07cedb77-5598-47bf-94a9-2c9c83fbac59",
   "metadata": {},
   "source": [
    "# Q1.What is a database? Differentiate between SQL and NoSQL databases."
   ]
  },
  {
   "cell_type": "code",
   "execution_count": null,
   "id": "41d0c502-e5e5-40d0-a337-17d465b6f759",
   "metadata": {},
   "outputs": [],
   "source": [
    "A database is an organized collection of structured information, or data, typically stored electronically in a computer system. \n",
    "A database is usually controlled by a database management system (DBMS). \n",
    "Together, the data and the DBMS, along with the applications that are associated with them, are referred to as a database system, often shortened to just database."
   ]
  },
  {
   "cell_type": "code",
   "execution_count": null,
   "id": "31be14eb-9517-4801-a8c1-1c061a710fa2",
   "metadata": {},
   "outputs": [],
   "source": [
    "Difference b/w SQL and NoSQL\n",
    "1)\tDatabases are categorized as Relational Database Management System (RDBMS).\tNoSQL databases are categorized as Non-relational or distributed database system.\n",
    "2)\tSQL databases have fixed or static or predefined schema.\tNoSQL databases have dynamic schema.\n",
    "3)\tSQL databases display data in form of tables so it is known as table-based database.\tNoSQL databases display data as collection of key-value pair, documents, graph databases or wide-column stores.\n",
    "4)\tSQL databases are vertically scalable.\tNoSQL databases are horizontally scalable.\n",
    "5)\tSQL databases use a powerful language \"Structured Query Language\" to define and manipulate the data.\tIn NoSQL databases, collection of documents are used to query the data. It is also called unstructured query language. It varies from database to database.\n",
    "6)\tSQL databases are best suited for complex queries.\tNoSQL databases are not so good for complex queries because these are not as powerful as SQL queries.\n",
    "7)\tSQL databases are not best suited for hierarchical data storage.\tNoSQL databases are best suited for hierarchical data storage.\n",
    "8)\tMySQL, Oracle, Sqlite, PostgreSQL and MS-SQL etc. are the example of SQL database.\tMongoDB, BigTable, Redis, RavenDB, Cassandra, Hbase, Neo4j, CouchDB etc. are the example of nosql database"
   ]
  },
  {
   "cell_type": "markdown",
   "id": "343622c2-7157-46e3-a99c-af4642df9ad0",
   "metadata": {},
   "source": [
    "# Q2. What is DDL? Explain why CREATE, DROP, ALTER, and TRUNCATE are used with an example."
   ]
  },
  {
   "cell_type": "code",
   "execution_count": null,
   "id": "0b20fdd1-7c57-4892-a7d0-a25e41bc3233",
   "metadata": {},
   "outputs": [],
   "source": [
    "SQL commands are divided into four subgroups, DDL, DML, DCL, and TCL."
   ]
  },
  {
   "cell_type": "code",
   "execution_count": null,
   "id": "43912ae2-1286-448d-872e-8176d5352e77",
   "metadata": {},
   "outputs": [],
   "source": [
    "DDL is short name of Data Definition Language, which deals with database schemas and descriptions, of how the data should reside in the database.\n",
    "CREATE - to create a database and its objects like (table, index, views, store procedure, function, and triggers)\n",
    "ALTER - alters the structure of the existing database\n",
    "DROP - delete objects from the database\n",
    "TRUNCATE - remove all records from a table, including all spaces allocated for the records are removed\n",
    "COMMENT - add comments to the data dictionary\n",
    "RENAME - rename an object"
   ]
  },
  {
   "cell_type": "code",
   "execution_count": null,
   "id": "b655690b-d064-4040-815f-a4ae7e33c0f4",
   "metadata": {},
   "outputs": [],
   "source": [
    "Example:\n",
    "CREATE TABLE if not exists table1(c1 INT,c2 VARCHAR(50),c3 INT,c4 FLOAT,c5 VARCHAR(40));\n"
   ]
  },
  {
   "cell_type": "code",
   "execution_count": null,
   "id": "576adf08-dbc6-49b6-8fae-cf44dd614343",
   "metadata": {},
   "outputs": [],
   "source": [
    "#The ALTER TABLE command adds, deletes, or modifies columns in a table.\n",
    "\n",
    "#The ALTER TABLE command also adds and deletes various constraints in a table.\n",
    "ALTER TABLE table1\n",
    "ADD email VARCHAR(50);"
   ]
  },
  {
   "cell_type": "code",
   "execution_count": null,
   "id": "e3ec6b76-5c31-4cdc-9afd-379c58005284",
   "metadata": {},
   "outputs": [],
   "source": [
    "ALTER TABLE table1\n",
    "DROP COLUMN c4;   # it will delete column c4 from the exixting table."
   ]
  },
  {
   "cell_type": "code",
   "execution_count": null,
   "id": "c008b3ec-a671-4b0e-9611-ea2dda7bf701",
   "metadata": {},
   "outputs": [],
   "source": [
    "# The TRUNCATE TABLE command deletes the data inside a table, but not the table itself.\n",
    "TRUNCATE TABLE table1;"
   ]
  },
  {
   "cell_type": "code",
   "execution_count": null,
   "id": "3134497c-8f48-4216-97fa-4518d9a41389",
   "metadata": {},
   "outputs": [],
   "source": [
    "# The DROP TABLE command deletes a table in the database.\n",
    "DROP TABLE table1; # it will delete table1 from the database."
   ]
  },
  {
   "cell_type": "markdown",
   "id": "ec47edc3-b3b6-4b14-970b-0983b9425d5a",
   "metadata": {
    "tags": []
   },
   "source": [
    "# Q3.What is DML? Explain INSERT, UPDATE, and DELETE with an example."
   ]
  },
  {
   "cell_type": "code",
   "execution_count": null,
   "id": "4c70813a-9d37-4d6a-a48a-ba5654fc1ebe",
   "metadata": {},
   "outputs": [],
   "source": [
    "DML is short name of Data Manipulation Language which deals with data manipulation and includes most common SQL statements such SELECT, INSERT, UPDATE, DELETE, etc., and it is used to store, modify, retrieve, delete and update data in a database.\n",
    "\n",
    "SELECT - retrieve data from a database\n",
    "INSERT - insert data into a table\n",
    "UPDATE - updates existing data within a table\n",
    "DELETE - Delete all records from a database table\n",
    "MERGE - UPSERT operation (insert or update)\n",
    "CALL - call a PL/SQL or Java subprogram\n",
    "EXPLAIN PLAN - interpretation of the data access path\n",
    "LOCK TABLE - concurrency Control"
   ]
  },
  {
   "cell_type": "markdown",
   "id": "32ba0d4e-6852-4a32-a888-6a6db8c60f15",
   "metadata": {},
   "source": [
    "# The INSERT INTO statement is used to insert new records in a table.\n",
    "It is possible to write the INSERT INTO statement in two ways:\n",
    "\n",
    "1. Specify both the column names and the values to be inserted:\n",
    "    Syntax:\n",
    "    INSERT INTO table_name (column1, column2, column3, ...)\n",
    "    VALUES (value1, value2, value3, ...);\n",
    "2.  If you are adding values for all the columns of the table, you do not need to specify the column names in the SQL query. \n",
    "    However, make sure the order of the values is in the same order as the columns in the table.\n",
    "    Syntax:\n",
    "    INSERT INTO table_name\n",
    "    VALUES (value1, value2, value3, ...);\n",
    "    \n",
    "INSERT INTO table1\n",
    "VALUES(24,'Rahul',45,85.8,'Jain');\n",
    "INSERT INTO table1\n",
    "VALUES(23,'Ram',75,95.8,'Jane');\n"
   ]
  },
  {
   "cell_type": "markdown",
   "id": "70362942-8e14-4db4-8cbe-9a7af9bb0c39",
   "metadata": {},
   "source": [
    "# The UPDATE statement is used to modify the existing records in a table.\n",
    "UPDATE table_name\n",
    "SET column1 = value1, column2 = value2, ...\n",
    "WHERE condition;\n",
    "Note: Be careful when updating records in a table! Notice the WHERE clause in the UPDATE statement. \n",
    "The WHERE clause specifies which record(s) that should be updated. \n",
    "If you omit the WHERE clause, all records in the table will be updated!\n",
    "# first time\n",
    "UPDATE table1\n",
    "SET c2= 'Pari', c3=2\n",
    "WHERE c1=24;\n",
    "# again checked with other conditions\n",
    "UPDATE table1\n",
    "SET c2= 'Pai', c3=8\n",
    "WHERE c2='Pari';\n"
   ]
  },
  {
   "cell_type": "markdown",
   "id": "f1927d63-8498-4abe-891b-314cf3140977",
   "metadata": {},
   "source": [
    "# The DELETE statement is used to delete existing records in a table.\n",
    "Syntax: DELETE FROM table_name WHERE condition;\n",
    "\n",
    "DELETE FROM table1 WHERE c3=8;   # The entire row is deleted from the database.\n",
    "\n"
   ]
  },
  {
   "cell_type": "markdown",
   "id": "7a68cb91-a306-4833-9013-1ae132839f67",
   "metadata": {},
   "source": [
    "# Q4.What is DQL? Explain SELECT with an example."
   ]
  },
  {
   "cell_type": "markdown",
   "id": "8a14e156-5731-4a4c-a069-af405cd65cdc",
   "metadata": {},
   "source": [
    "DQL (Data Query Language)\n",
    "DQL statements are used for performing queries on the data within schema objects. The purpose of the DQL Command is to get some schema relation based on the query passed to it. We can define DQL as follows it is a component of SQL statement that allows getting data from the database and imposing order upon it. It includes the SELECT statement. This command allows getting the data out of the database to perform operations with it. When a SELECT is fired against a table or tables the result is compiled into a further temporary table, which is displayed or perhaps received by the program i.e. a front-end.\n",
    "\n",
    "List of DQL: \n",
    "\n",
    "SELECT: It is used to retrieve data from the database."
   ]
  },
  {
   "cell_type": "code",
   "execution_count": null,
   "id": "b39591a0-38cc-49cd-8d09-6b95b9707e70",
   "metadata": {},
   "outputs": [],
   "source": [
    "import mysql.connector\n",
    "# import mysql.connector\n",
    "#create user 'user'@'%' identified by 'password'\n",
    "mydb = mysql.connector.connect(\n",
    "  host=\"localhost\",\n",
    "  user=\"abc\",\n",
    "  password=\"password\"\n",
    ")\n",
    "print(mydb)\n",
    "mycursor = mydb.cursor()\n",
    "mycursor.execute(\"Select * from test2.table_name\")\n",
    "for i in mycursor.fetchall():\n",
    "    print(i)"
   ]
  },
  {
   "cell_type": "markdown",
   "id": "77d5d9f7-4a10-4b2b-9ea2-f3cf326dc1d9",
   "metadata": {},
   "source": [
    "# Q5.Explain Primary Key and Foreign Key."
   ]
  },
  {
   "cell_type": "markdown",
   "id": "bde05625-2ad3-476d-81c7-91cb082b3324",
   "metadata": {},
   "source": [
    "A primary key is used to ensure that data in the specific column is unique.\n",
    "A column cannot have NULL values.\n",
    "It is either an existing table column or a column that is specifically generated by the database according to a defined sequence. "
   ]
  },
  {
   "cell_type": "markdown",
   "id": "615947ba-b0b7-4fc0-bf59-ba2e3ba3539f",
   "metadata": {},
   "source": [
    "A foreign key is a column or group of columns in a relational database table that provides a link between data in two tables.\n",
    "It is a column (or columns) that references a column (most often the primary key) of another table. "
   ]
  },
  {
   "cell_type": "markdown",
   "id": "232d51f8-49e5-4d36-b4ed-61657ed0c07b",
   "metadata": {},
   "source": [
    "Primary Key contains unique values, whereas Foreign Key contains values taking reference from Primary Keys. The main characteristic property of the Primary key is that it can’t be repeated, it is unique."
   ]
  },
  {
   "cell_type": "markdown",
   "id": "03915b04-a4a1-4c54-b1b5-2146ff3c4183",
   "metadata": {},
   "source": [
    "# Q6.Write a python code to connect MySQL to python. Explain the cursor() and execute() \n",
    "# method."
   ]
  },
  {
   "cell_type": "code",
   "execution_count": null,
   "id": "0b591081-34a2-4ae2-92f9-4c62a7709cf5",
   "metadata": {},
   "outputs": [],
   "source": [
    "import mysql.connector\n",
    "# import mysql.connector\n",
    "#create user 'user'@'%' identified by 'password'\n",
    "mydb = mysql.connector.connect(\n",
    "  host=\"localhost\",\n",
    "  user=\"abc\",\n",
    "  password=\"password\"\n",
    ")\n",
    "print(mydb)    #  Connection will get established\n"
   ]
  },
  {
   "cell_type": "code",
   "execution_count": null,
   "id": "da2722c2-2934-4642-af4b-df364d11d02c",
   "metadata": {},
   "outputs": [],
   "source": [
    "Cursors are created by the connection.cursor() method: they are bound to the connection for the entire lifetime and all the commands are executed in the context of the database session wrapped by the connection.\n",
    "\n",
    "Cursors created from the same connection are not isolated, i.e., any changes done to the database by a cursor are immediately visible by the other cursors. Cursors created from different connections can or can not be isolated, depending on the connections’ isolation level.\n",
    "Cursors can be used as context managers: leaving the context will close the cursor.\n",
    "with conn.cursor() as curs:\n",
    "    curs.execute(SQL)\n",
    "\n",
    "# the cursor is now closed"
   ]
  },
  {
   "cell_type": "code",
   "execution_count": null,
   "id": "c4d9d360-bd74-4f6c-8b05-c278e394cfc7",
   "metadata": {},
   "outputs": [],
   "source": [
    "Commands execution methods:\n",
    "    execute(query, vars=None)\n",
    "1.Execute a database operation (query or command).\n",
    "\n",
    "Parameters may be provided as sequence or mapping and will be bound to variables in the operation. Variables are specified either with positional (%s) or named (%(name)s) placeholders. \n",
    "\n",
    "The method returns None. If a query was executed, the returned values can be retrieved using fetch*() methods.\n",
    "\n",
    "2.Executes the given operation\n",
    "\n",
    "Executes the given operation substituting any markers with\n",
    "the given parameters.\n",
    "\n",
    "For example, getting all rows where id is 5:\n",
    "  cursor.execute(\"SELECT * FROM t1 WHERE id = %s\", (5,))\n",
    "\n",
    "The multi argument should be set to True when executing multiple\n",
    "statements in one operation. If not set and multiple results are\n",
    "found, an InterfaceError will be raised.\n"
   ]
  },
  {
   "cell_type": "code",
   "execution_count": null,
   "id": "ada0f41d-957c-4210-be6c-bd961aa12530",
   "metadata": {},
   "outputs": [],
   "source": [
    "import mysql.connector\n",
    "# import mysql.connector\n",
    "#create user 'user'@'%' identified by 'password'\n",
    "mydb = mysql.connector.connect(\n",
    "  host=\"localhost\",\n",
    "  user=\"abc\",\n",
    "  password=\"password\"\n",
    ")\n",
    "print(mydb)\n",
    "mycursor = mydb.cursor()    # connection varaiable.cursor is going to enable us to execute any query.\n",
    "mycursor.execute(\"SHOW DATABASES\") # Whatever command(here \"SHOW DATABASES\") you want to execute you can try to call cursor.execute function\n",
    "for x in mycursor:\n",
    "  print(x)"
   ]
  },
  {
   "cell_type": "markdown",
   "id": "a3e8949a-47a1-4575-ba6c-e559b868d4ac",
   "metadata": {},
   "source": [
    "# Q7. Give the order of execution of SQL clauses in an SQL query."
   ]
  },
  {
   "cell_type": "code",
   "execution_count": null,
   "id": "6dcdaced-a6e7-4d6e-bfdb-dea9e84185d1",
   "metadata": {},
   "outputs": [],
   "source": [
    "SQL query execution order means optimizing our search results from the database or where the query clauses are evaluated according to the requirements.\n",
    "\n",
    "Like how we plan something step by step and reach the final result, similarly, we use clauses in a particular order known as the SQL query execution order. \n",
    "Here is the table that shows the order in which the clauses are used.\n",
    "Order\tClause\t   Function\n",
    "1\t   FROM\t       Tables are joined to get the base data.\n",
    "2\t   WHERE\t   The base data is filtered.\n",
    "3\t   GROUP BY\t   The filtered base data is grouped.\n",
    "4\t   HAVING\t   The grouped base data is filtered.\n",
    "5\t   SELECT\t   The final data is returned.\n",
    "6\t   ORDER BY\t   The final data is sorted.\n",
    "7\t   LIMIT\t   The returned data is limited to row count.\n"
   ]
  }
 ],
 "metadata": {
  "kernelspec": {
   "display_name": "Python 3 (ipykernel)",
   "language": "python",
   "name": "python3"
  },
  "language_info": {
   "codemirror_mode": {
    "name": "ipython",
    "version": 3
   },
   "file_extension": ".py",
   "mimetype": "text/x-python",
   "name": "python",
   "nbconvert_exporter": "python",
   "pygments_lexer": "ipython3",
   "version": "3.10.8"
  }
 },
 "nbformat": 4,
 "nbformat_minor": 5
}
